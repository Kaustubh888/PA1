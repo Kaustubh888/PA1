{
 "cells": [
  {
   "cell_type": "code",
   "execution_count": null,
   "id": "4f4ab854",
   "metadata": {},
   "outputs": [],
   "source": [
    "1.\n",
    "\n",
    "= print(\"Hello Python\")"
   ]
  },
  {
   "cell_type": "code",
   "execution_count": null,
   "id": "fea806d2",
   "metadata": {},
   "outputs": [],
   "source": [
    "2.\n",
    "\n",
    "=   a=int(input(\"Enter a number:\"))\n",
    "    b=int(input(\"Enter a second number:\"))\n",
    "    c=a+b\n",
    "    d=a/b\n",
    "    print(c)\n",
    "    print(d)"
   ]
  },
  {
   "cell_type": "code",
   "execution_count": null,
   "id": "6f7af807",
   "metadata": {},
   "outputs": [],
   "source": [
    "3.\n",
    "\n",
    "=   b=int(input(\"Enter base:\"))\n",
    "    h=int(input(\"Enter height:\"))\n",
    "    area=1/2*b*h\n",
    "    print(\"Area of triangle:\",area)"
   ]
  },
  {
   "cell_type": "code",
   "execution_count": null,
   "id": "f6d9c7db",
   "metadata": {},
   "outputs": [],
   "source": [
    "4.\n",
    "\n",
    "=   t=int(input(\"Enter first number:\"))\n",
    "    y=int(input(\"Enter second number:\"))\n",
    "    temp=t\n",
    "    t=y\n",
    "    y=temp\n",
    "    print(t)\n",
    "    print(y)"
   ]
  },
  {
   "cell_type": "code",
   "execution_count": null,
   "id": "ff96eea7",
   "metadata": {},
   "outputs": [],
   "source": [
    "5.\n",
    "\n",
    "=  import random\n",
    "   print(random.randint(3, 9))"
   ]
  }
 ],
 "metadata": {
  "kernelspec": {
   "display_name": "Python 3",
   "language": "python",
   "name": "python3"
  },
  "language_info": {
   "codemirror_mode": {
    "name": "ipython",
    "version": 3
   },
   "file_extension": ".py",
   "mimetype": "text/x-python",
   "name": "python",
   "nbconvert_exporter": "python",
   "pygments_lexer": "ipython3",
   "version": "3.8.8"
  }
 },
 "nbformat": 4,
 "nbformat_minor": 5
}
